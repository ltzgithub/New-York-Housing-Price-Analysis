{
 "cells": [
  {
   "cell_type": "markdown",
   "metadata": {},
   "source": [
    "<h1 align=center><font size = 5>Data Acquisition and Pre-Cleaning</font></h1>"
   ]
  },
  {
   "cell_type": "markdown",
   "metadata": {},
   "source": [
    "## 1. Data acquisition\n",
    "Data were obtained from Kaggle <a href='https://www.kaggle.com/new-york-city/nyc-property-sales'>**NewYorkRealEstateTransaction**</a>. This dataset contains the record of the transactions of all the real estate properties including vacant lands, buildings, apartments etc., within 12 month, from September 2016 to September 2017.\n",
    "\n",
    "Foursquare API will be used for getting venues in the New York City.\n",
    "\n",
    "world_countries.json file from Data Visualization coursewill be used for generating choropleth map. \n",
    "\n",
    "## 2. Data cleaning\n",
    "Data were downloaded from Kaggle website and uploaded to my account in myJupterNoteBook. The dataset contains 22 columns and 84548 entries(rows).\n",
    "1. Checking Null fields in the data shows no NULL field. However, after studying the data, there are lots of fields are either empty, filled with “-”. The  entire column of “EASE-MENT” is empty. And the first column “Unname: 0” is a redundant index inherited from the original file. Therefore, these two columns were deleted. Before working on the missing values, I decided to check duplicate entries(rows) in the dataset.\n",
    "2. Checked the duplicates with all the columns included and dropped 765 duplicated entries. Furthermore, checked whether same transaction was entered multiple times with different date and dropped other 593 entries.  Even more,  the same property could be transacted multiple times with different prices,  which is quite common if a property was transferred and later sold in market value. If a property was auctioned and quickly resold on the market, there will be multiple entries in the dataset also. Apparently there are 2398 duplicate entries with different prices. Therefore, for those duplicated rows,  the one with the highest price is kept.\n",
    "3. Since the response variable is “SALE PRICE”, let’s check this column again. There are still 13909 rows with “-”, 9740 rows of 0, 731 with value 10. Remove the rows with “SALE PRICE” are “-” and 0. Even if some of the properties are cheap in the other boroughs except Manhattan, the transactions with price less than 10,000 are probably not market transactions. These transactions are probably interpersonal, do not reflect any market values. There are 1102 entries with “SALE PRICE” value less than 10,000 being removed.\n",
    "4. The age of a property could be a potential indicator for “SALE PRICE”. Let’s take a look of “YEAR BUILT”. There are 6970 entries with “YEAR BUILT” set to 0, which means erroneous entries. The best replacements of the 0s are the medians of the “YEAR BUILT” of each neighborhood.\n",
    "5. The cells for “LAND SQUARE FEET” and “GROSS SQUARE FEET” for the majority of condos and commercial properties are empty, only filled for the most of single, two or three family dwellings. Based on this observation and the characteristics of the real estate market, the dataset is segmented into three subsets based on “TAX CLASS AT TIME OF SALE”. The original dataset only has 4 entries in Tax Class3. After the previous clean-up, these 3 entries are gone. Here is the explanation of Tax Classes TaxClassNYC. In brief, Class 1&2 are residential, Class 3 are properties for utility companies, Class 4 are all other non-residential. Class 2 is for big condominium towers, while Class 1 is for single, two or three family dwellings, small condominium buildings with less than three stories. Commercial and residential real estate market are quite different. In New York City, the small family dwellings, such as single, two or three family houses, are different with condominium towers. The dataset was segmented into these three categories. \n",
    "6. Feature selection and missing value replacements will be coded separately for each subset. As discussed previously, these three segments are quite different entities in New York City real estate market. It is rational to study them separately in order to answer those questions for those interested stakeholders."
   ]
  },
  {
   "cell_type": "code",
   "execution_count": null,
   "metadata": {},
   "outputs": [],
   "source": []
  }
 ],
 "metadata": {
  "kernelspec": {
   "display_name": "Python",
   "language": "python",
   "name": "conda-env-python-py"
  },
  "language_info": {
   "codemirror_mode": {
    "name": "ipython",
    "version": 3
   },
   "file_extension": ".py",
   "mimetype": "text/x-python",
   "name": "python",
   "nbconvert_exporter": "python",
   "pygments_lexer": "ipython3",
   "version": "3.6.7"
  }
 },
 "nbformat": 4,
 "nbformat_minor": 4
}
