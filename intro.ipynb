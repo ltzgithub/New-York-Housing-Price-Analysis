{
 "cells": [
  {
   "cell_type": "markdown",
   "metadata": {},
   "source": [
    "<h1 align=center><font size = 5>New York Housing Price Analysis</font></h1>"
   ]
  },
  {
   "cell_type": "markdown",
   "metadata": {},
   "source": [
    "# _Introduction_"
   ]
  },
  {
   "cell_type": "markdown",
   "metadata": {},
   "source": [
    "## 1. Background\n",
    "New York City is one of the biggest cities in the world, with 5 Boroughs and hundreds of neighborhoods(254 different neighborhoods in the dataset). Each borough or neighborhood has its own characteristics. With Manhattan as its core, it is densely populated with an estimate of 70,826 inhabitants per square mile <a href='http://worldpopulationreview.com/boroughs/manhattan-population'>**ManhattanPopulation2019**</a>. This population density makes Manhattan the most densely populated of any county in the United States. Manhattan is the cultural, administrative and financial center of New York city, also the financial and cultural center of the world. The other four boroughs, Bronx, Brooklyn, Manhattan and Queens are also densely populated of people with different ethnicities. New York City is the world’s most sort-after metropolitan, and is the gateway for immigrants throughout the city’s history. People all over the world come here to live, study, work and invest. The records of the most expensive real estate per square feet for both commercial and residential were made here. In 2019 Manhattan is home to two of the top ten ZiP Codes in the United States by median housing price <a href = 'https://www.cnbc.com/2019/11/22/10-most-expensive-us-zip-codes-for-buying-a-home.html'>**TopTenZipCode2019**</a>. The real estate is a major force for the city’s economy. Therefore the real estate market is an interesting topic for many stakeholders, such as the city officials for planning, New York residents, migrants to the New York City etc.. For example, a job seeker who lands a job in the city likes to know where to stay; a real estate investor likes to know where and when to purchase/sell the properties; etc. Real estate is the most expensive investment in people’s life. Purchasing any real estate is one of the most important decisions in anybody’s lifetime.  For all who are interested in real estate in New York City, these are the two questions they have in their mind: the affordability and availability. Manhattan is home to lots of expensive real estate properties. What makes Manhattan so attractive? We will explore its venues using Foursuqare location data so that we can understand more about the local real estate market."
   ]
  },
  {
   "cell_type": "markdown",
   "metadata": {},
   "source": [
    "## 2. Problems\n",
    "Real estate is a forever interesting topic. With the accessibility of modern transportation, people migrate quite often. The first thing for migrants is real estate. \n",
    "For people migrate into New York City, they like to find the answers to the following questions: \n",
    "1. What kind of housing options available there? Single family, townhouse, condos, coop etc.\n",
    "2. The locations  and prices for each option\n",
    "3. When is the market most active?\n",
    "\n",
    "For people moving out of the city, they might have the following concerns:\n",
    "1. What is the appropriate price to list the property?\n",
    "2. What is the best time to list the property?\n",
    "\n",
    "For real estate investors, they like to know where and when to do the transactions to maximize the  profit. \n",
    "\n",
    "For the city planning officials, they like to know the activities of the real estate market so that they can plan for the future business and infrastructure activities in the city.  "
   ]
  },
  {
   "cell_type": "code",
   "execution_count": null,
   "metadata": {},
   "outputs": [],
   "source": []
  }
 ],
 "metadata": {
  "kernelspec": {
   "display_name": "Python",
   "language": "python",
   "name": "conda-env-python-py"
  },
  "language_info": {
   "codemirror_mode": {
    "name": "ipython",
    "version": 3
   },
   "file_extension": ".py",
   "mimetype": "text/x-python",
   "name": "python",
   "nbconvert_exporter": "python",
   "pygments_lexer": "ipython3",
   "version": "3.6.7"
  }
 },
 "nbformat": 4,
 "nbformat_minor": 4
}
